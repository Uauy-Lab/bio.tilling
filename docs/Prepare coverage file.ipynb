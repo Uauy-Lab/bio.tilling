{
 "cells": [
  {
   "cell_type": "markdown",
   "metadata": {},
   "source": [
    "This notebook shows how to prepare the table of coverages using bedtools.\n",
    "\n",
    "**Prerequisites**\n",
    "\n",
    "* **bedtools** This notebook was tested with bedtools 2.24\n",
    "* A folder **alignments_all** with the BAM files indexed with a sensible name for each sample. We use the convention **Line_Library** to be able to have two or more libraries coming from the same line. The bam files must be already indexed with **samtools** \n",
    "* **exons.bed** is a bed file with the coordinate of eeach exon. It could be any other feature if it is sensible in the sample. \n",
    "\n",
    "**Notes**\n",
    "\n",
    "This notebook doesn't contain example files because the size of the bam files. \n"
   ]
  },
  {
   "cell_type": "markdown",
   "metadata": {},
   "source": [
    "** Extracting the coverage **\n",
    "\n",
    "The first step is to create a folder with the file with the coverage of each file. The coverageBed command can be executed in parallel on a cluster. "
   ]
  },
  {
   "cell_type": "code",
   "execution_count": null,
   "metadata": {
    "collapsed": true
   },
   "outputs": [],
   "source": [
    "mkdir -p bedCovMerged_all\n",
    "for f in `ls alignments_all | grep -v bai`; do\n",
    "    echo $f\n",
    "    filename=\"${f%.*}\"\n",
    "    if [ -f bedCovMerged_all/$filename.tab ] ; then\n",
    "        echo \"Already extracted\"\n",
    "    else\n",
    "        coverageBed -a References/exons.bed -b alignments_all/$f -sorted -g References/chr_order.txt  > bedCovMerged_all/$filename.tab \n",
    "    fi\n",
    "done"
   ]
  },
  {
   "cell_type": "markdown",
   "metadata": {},
   "source": [
    "Go to the folder with the coverages. "
   ]
  },
  {
   "cell_type": "code",
   "execution_count": 11,
   "metadata": {
    "collapsed": false
   },
   "outputs": [
    {
     "name": "stdout",
     "output_type": "stream",
     "text": []
    }
   ],
   "source": [
    "folder=\"bedCovMerged_all\"\n",
    "cd $folder"
   ]
  },
  {
   "cell_type": "markdown",
   "metadata": {},
   "source": [
    "Extract the column with the coverage (4) and save the coverage in a separate name just with the coverage of the column with the coverage in a temp file. "
   ]
  },
  {
   "cell_type": "code",
   "execution_count": 12,
   "metadata": {
    "collapsed": false
   },
   "outputs": [
    {
     "name": "stdout",
     "output_type": "stream",
     "text": []
    }
   ],
   "source": [
    "for fullfile in `ls Cadenza*.tab`; do\n",
    "    #echo $fullfile\n",
    "    filename=$(basename \"$fullfile\")\n",
    "    extension=\"${filename##*.}\"\n",
    "    filename=\"${filename%.*}\"\n",
    "    #echo $filename\n",
    "    echo $filename > cov.${filename}.txt\n",
    "    awk '{print $4}' $fullfile >> cov.${filename}.txt\n",
    "    \n",
    "done\n"
   ]
  },
  {
   "cell_type": "markdown",
   "metadata": {},
   "source": [
    "Prepare the coordinates of each exon in a single column. This convention is later used in the R script to get put all the exons in a single contig together.  "
   ]
  },
  {
   "cell_type": "code",
   "execution_count": 14,
   "metadata": {
    "collapsed": false
   },
   "outputs": [
    {
     "name": "stdout",
     "output_type": "stream",
     "text": [
      "\r\n",
      "IWGSC_CSS_1AL_scaff_18283:1:435\r\n",
      "IWGSC_CSS_1AL_scaff_18283:527:1204\r\n",
      "IWGSC_CSS_1AL_scaff_19831:594:685\r\n",
      "IWGSC_CSS_1AL_scaff_19831:803:927\r\n",
      "IWGSC_CSS_1AL_scaff_72977:87:218\r\n",
      "IWGSC_CSS_1AL_scaff_72977:294:374\r\n",
      "IWGSC_CSS_1AL_scaff_84503:12:592\r\n",
      "IWGSC_CSS_1AL_scaff_84503:14:1061\r\n",
      "IWGSC_CSS_1AL_scaff_84503:1618:1779\r\n"
     ]
    }
   ],
   "source": [
    "echo \"\" > exonNames.txt\n",
    "awk '{print $1\":\"$2\":\"$3}' $fullfile >> exonNames.txt\n",
    "head exonNames.txt"
   ]
  },
  {
   "cell_type": "markdown",
   "metadata": {},
   "source": [
    "Merge all the files in a single file. The ulimit is only in case the system complains of too many files open"
   ]
  },
  {
   "cell_type": "code",
   "execution_count": 15,
   "metadata": {
    "collapsed": false
   },
   "outputs": [
    {
     "name": "stdout",
     "output_type": "stream",
     "text": [
      "paste: cov.Cadenza0608_LIB11452.txt: Too many open files\r\n"
     ]
    }
   ],
   "source": [
    "ulimit -S -n 2048\n",
    "paste exonNames.txt cov*.txt > allMergedCoverages.tab"
   ]
  }
 ],
 "metadata": {
  "kernelspec": {
   "display_name": "Bash",
   "language": "bash",
   "name": "bash"
  },
  "language_info": {
   "codemirror_mode": "shell",
   "file_extension": ".sh",
   "mimetype": "text/x-sh",
   "name": "bash"
  }
 },
 "nbformat": 4,
 "nbformat_minor": 0
}
